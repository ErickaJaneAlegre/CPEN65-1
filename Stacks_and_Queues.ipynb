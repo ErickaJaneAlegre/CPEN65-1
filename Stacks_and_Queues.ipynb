{
  "nbformat": 4,
  "nbformat_minor": 0,
  "metadata": {
    "colab": {
      "provenance": [],
      "authorship_tag": "ABX9TyPPGlElkZmOqOB7kL4TcVin",
      "include_colab_link": true
    },
    "kernelspec": {
      "name": "python3",
      "display_name": "Python 3"
    },
    "language_info": {
      "name": "python"
    }
  },
  "cells": [
    {
      "cell_type": "markdown",
      "metadata": {
        "id": "view-in-github",
        "colab_type": "text"
      },
      "source": [
        "<a href=\"https://colab.research.google.com/github/ErickaJaneAlegre/CPEN65-1/blob/main/Stacks_and_Queues.ipynb\" target=\"_parent\"><img src=\"https://colab.research.google.com/assets/colab-badge.svg\" alt=\"Open In Colab\"/></a>"
      ]
    },
    {
      "cell_type": "code",
      "execution_count": 1,
      "metadata": {
        "colab": {
          "base_uri": "https://localhost:8080/"
        },
        "id": "TX3hiJFxoQAu",
        "outputId": "07bd5efc-acad-4b3a-e1fa-45bca0ce2704"
      },
      "outputs": [
        {
          "output_type": "stream",
          "name": "stdout",
          "text": [
            "['J', 'A', 'N', 'E']\n",
            "['J', 'A']\n"
          ]
        }
      ],
      "source": [
        "class Stack:                 #Last in, First Out\n",
        "  def __init__(self):\n",
        "    self.stack = []         #stack implementation using OOP concepts\n",
        "\n",
        "  def push(self,dataval):\n",
        "    if dataval not in self.stack:\n",
        "      return self.stack.append(dataval)\n",
        "    else:\n",
        "      return False\n",
        "  \n",
        "  def pop(self):\n",
        "    if len(self.stack)<=0:\n",
        "      return(\"No element in the stack\")\n",
        "    else:\n",
        "      return self.stack.pop()\n",
        "\n",
        "AStack = Stack()\n",
        "AStack.push(\"J\")\n",
        "AStack.push(\"A\")\n",
        "AStack.push(\"N\")\n",
        "AStack.push(\"E\")\n",
        "print(AStack.stack)\n",
        "AStack.pop()\n",
        "AStack.pop()\n",
        "print(AStack.stack)"
      ]
    },
    {
      "cell_type": "code",
      "source": [
        "#Application\n",
        "\n",
        "#Implement the above program by Queues Data Structure (enqueues and dequeue/FIFO)"
      ],
      "metadata": {
        "id": "Etq3TXFAoj3x"
      },
      "execution_count": null,
      "outputs": []
    },
    {
      "cell_type": "code",
      "source": [
        "class Queue:\n",
        "  def __init__(self):\n",
        "    self.queue = []         #queue implementation using OOP concepts\n",
        "\n",
        "  def enqueue(self,dataval):\n",
        "    if dataval not in self.queue:\n",
        "      return self.queue.append(dataval)\n",
        "    else:\n",
        "      return False\n",
        "  \n",
        "  def dequeue(self):\n",
        "    if len(self.queue)<=0:\n",
        "      return(\"No element in the queue\")\n",
        "    else:\n",
        "      return self.queue.pop(0)\n",
        "\n",
        "AQueue = Queue()\n",
        "AQueue.enqueue(\"J\")\n",
        "AQueue.enqueue(\"A\")\n",
        "AQueue.enqueue(\"N\")\n",
        "AQueue.enqueue(\"E\")\n",
        "print(AQueue.queue)\n",
        "AQueue.dequeue()\n",
        "AQueue.dequeue()\n",
        "print(AQueue.queue)"
      ],
      "metadata": {
        "colab": {
          "base_uri": "https://localhost:8080/"
        },
        "id": "XxUEWPcjorMI",
        "outputId": "337e69b8-ceab-4a09-fb2d-8c301dbc61f1"
      },
      "execution_count": 8,
      "outputs": [
        {
          "output_type": "stream",
          "name": "stdout",
          "text": [
            "['J', 'A', 'N', 'E']\n",
            "['N', 'E']\n"
          ]
        }
      ]
    }
  ]
}