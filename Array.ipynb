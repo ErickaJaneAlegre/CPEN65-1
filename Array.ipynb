{
  "nbformat": 4,
  "nbformat_minor": 0,
  "metadata": {
    "colab": {
      "provenance": [],
      "collapsed_sections": [],
      "authorship_tag": "ABX9TyO6XRQSGNsWBI1KksFZYP54",
      "include_colab_link": true
    },
    "kernelspec": {
      "name": "python3",
      "display_name": "Python 3"
    },
    "language_info": {
      "name": "python"
    }
  },
  "cells": [
    {
      "cell_type": "markdown",
      "metadata": {
        "id": "view-in-github",
        "colab_type": "text"
      },
      "source": [
        "<a href=\"https://colab.research.google.com/github/ErickaJaneAlegre/CPEN65-1/blob/main/Array.ipynb\" target=\"_parent\"><img src=\"https://colab.research.google.com/assets/colab-badge.svg\" alt=\"Open In Colab\"/></a>"
      ]
    },
    {
      "cell_type": "code",
      "execution_count": 1,
      "metadata": {
        "id": "YhTTA3sL4j3q",
        "colab": {
          "base_uri": "https://localhost:8080/"
        },
        "outputId": "d3f503a0-b544-4898-987a-fd4f2fea549a"
      },
      "outputs": [
        {
          "output_type": "stream",
          "name": "stdout",
          "text": [
            "Array [0]= cat\n",
            "Array [1]= dog\n",
            "Array [2]= fish\n"
          ]
        }
      ],
      "source": [
        "#Accessing the elements in an Array \n",
        "\n",
        "animals = [ \"cat\", \"dog\", \"fish\"]\n",
        "x = animals[0]\n",
        "y = animals[1]\n",
        "z = animals[2]\n",
        "\n",
        "print(\"Array [0]=\", x)\n",
        "print(\"Array [1]=\", y)\n",
        "print(\"Array [2]=\", z)"
      ]
    },
    {
      "cell_type": "code",
      "source": [
        "#Modifying the elements in the Array\n",
        "\n",
        "animals = [\"cat\", \"dog\", \"fish\"]\n",
        "animals[0] = \"monkey\"\n",
        "x = animals[0]\n",
        "print(\"Array [0]=\", x)\n",
        "print(animals)"
      ],
      "metadata": {
        "colab": {
          "base_uri": "https://localhost:8080/"
        },
        "id": "m6oehs6OH6yv",
        "outputId": "6e421a7f-2e74-45df-da12-b514ad96e51b"
      },
      "execution_count": 17,
      "outputs": [
        {
          "output_type": "stream",
          "name": "stdout",
          "text": [
            "Array [0]= monkey\n",
            "['monkey', 'dog', 'fish']\n"
          ]
        }
      ]
    },
    {
      "cell_type": "code",
      "source": [
        "#Length of an Array\n",
        "\n",
        "animals = [\"monkey\", \"dog\", \"fish\", \"cat\", \"birds\"]\n",
        "v = len(animals)\n",
        "print(v)"
      ],
      "metadata": {
        "id": "8BRwZbs19c-Q",
        "colab": {
          "base_uri": "https://localhost:8080/"
        },
        "outputId": "7fab397e-9bdf-45b4-a7c9-11e5cfdcb5d0"
      },
      "execution_count": 3,
      "outputs": [
        {
          "output_type": "stream",
          "name": "stdout",
          "text": [
            "5\n"
          ]
        }
      ]
    },
    {
      "cell_type": "code",
      "source": [
        "#Looping Array Elements\n",
        "animals = [\"monkey\", \"dog\", \"fish\", \"cat\", \"birds\"]\n",
        "\n",
        "for x in animals:\n",
        "  print(x)"
      ],
      "metadata": {
        "id": "gvOY5m_R9dLp",
        "colab": {
          "base_uri": "https://localhost:8080/"
        },
        "outputId": "f1bf9d39-8e6a-4496-e785-479066f18a65"
      },
      "execution_count": 4,
      "outputs": [
        {
          "output_type": "stream",
          "name": "stdout",
          "text": [
            "monkey\n",
            "dog\n",
            "fish\n",
            "cat\n",
            "birds\n"
          ]
        }
      ]
    },
    {
      "cell_type": "code",
      "source": [
        "animals = [\"monkey\", \"dog\", \"fish\", \"cat\", \"birds\"]\n",
        "\n",
        "for index, val in enumerate(animals):\n",
        "  print(index, val)"
      ],
      "metadata": {
        "id": "uOFCwSFV9dY4",
        "colab": {
          "base_uri": "https://localhost:8080/"
        },
        "outputId": "1bc5a5b6-7c79-4bb4-c607-de60be12b4a4"
      },
      "execution_count": 5,
      "outputs": [
        {
          "output_type": "stream",
          "name": "stdout",
          "text": [
            "0 monkey\n",
            "1 dog\n",
            "2 fish\n",
            "3 cat\n",
            "4 birds\n"
          ]
        }
      ]
    },
    {
      "cell_type": "code",
      "source": [
        "#Adding Elements in the Array\n",
        "\n",
        "animals = [\"monkey\", \"dog\", \"fish\", \"cat\", \"birds\"]\n",
        "animals.append(\"lion\")\n",
        "print(animals)"
      ],
      "metadata": {
        "id": "Q-Dv8buE-b8h",
        "colab": {
          "base_uri": "https://localhost:8080/"
        },
        "outputId": "ed65e621-1d91-465a-ad19-64a07c2f635b"
      },
      "execution_count": 6,
      "outputs": [
        {
          "output_type": "stream",
          "name": "stdout",
          "text": [
            "['monkey', 'dog', 'fish', 'cat', 'birds', 'lion']\n"
          ]
        }
      ]
    },
    {
      "cell_type": "code",
      "source": [
        "#Write a Python program to insert a new item ('11') before the second element in an existing array.\n",
        "#Original array numbers = [1, 2, 3, 4, 5, 6, 7, 8, 9, 10]\n",
        "\n",
        "numbers = [1, 2, 3, 4, 5, 6, 7, 8, 9, 10]\n",
        "numbers.insert(1,11)\n",
        "print(numbers)"
      ],
      "metadata": {
        "id": "HJXuutPF-cFB",
        "colab": {
          "base_uri": "https://localhost:8080/"
        },
        "outputId": "90181695-b878-4936-92d6-ce3593b47f14"
      },
      "execution_count": 8,
      "outputs": [
        {
          "output_type": "stream",
          "name": "stdout",
          "text": [
            "[1, 11, 2, 3, 4, 5, 6, 7, 8, 9, 10]\n"
          ]
        }
      ]
    },
    {
      "cell_type": "code",
      "source": [
        "#Removing element/s in a Array\n",
        "\n",
        "print(numbers)\n",
        "numbers.pop(1)\n",
        "print(numbers)"
      ],
      "metadata": {
        "id": "1_h8cohY_XAk",
        "colab": {
          "base_uri": "https://localhost:8080/"
        },
        "outputId": "b01a9be5-0027-4404-8a35-53700280d552"
      },
      "execution_count": 9,
      "outputs": [
        {
          "output_type": "stream",
          "name": "stdout",
          "text": [
            "[1, 11, 2, 3, 4, 5, 6, 7, 8, 9, 10]\n",
            "[1, 2, 3, 4, 5, 6, 7, 8, 9, 10]\n"
          ]
        }
      ]
    }
  ]
}