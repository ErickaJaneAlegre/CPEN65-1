{
  "nbformat": 4,
  "nbformat_minor": 0,
  "metadata": {
    "colab": {
      "provenance": [],
      "authorship_tag": "ABX9TyM4444o3ntSPI7sTjmHxoRh",
      "include_colab_link": true
    },
    "kernelspec": {
      "name": "python3",
      "display_name": "Python 3"
    },
    "language_info": {
      "name": "python"
    }
  },
  "cells": [
    {
      "cell_type": "markdown",
      "metadata": {
        "id": "view-in-github",
        "colab_type": "text"
      },
      "source": [
        "<a href=\"https://colab.research.google.com/github/ErickaJaneAlegre/CPEN65-1/blob/main/Exercise_1_Reverse_Order.ipynb\" target=\"_parent\"><img src=\"https://colab.research.google.com/assets/colab-badge.svg\" alt=\"Open In Colab\"/></a>"
      ]
    },
    {
      "cell_type": "markdown",
      "source": [],
      "metadata": {
        "id": "M_kESd4Flufw"
      }
    },
    {
      "cell_type": "markdown",
      "source": [
        "##Exercise 1\n",
        "\n",
        "###1. Create a Python program that use Array.\n",
        "\n",
        "###2. Insert each character of your full name and display each characters of your full name in reverse order."
      ],
      "metadata": {
        "id": "KZKqjvD4lw9D"
      }
    },
    {
      "cell_type": "code",
      "execution_count": 2,
      "metadata": {
        "colab": {
          "base_uri": "https://localhost:8080/"
        },
        "id": "NScOgU5llg8D",
        "outputId": "dd82d71e-ed5c-4898-c276-d419b048b04a"
      },
      "outputs": [
        {
          "output_type": "stream",
          "name": "stdout",
          "text": [
            "['E', 'R', 'G', 'E', 'L', 'A', 'E', 'N', 'A', 'J', 'A', 'K', 'C', 'I', 'R', 'E']\n"
          ]
        }
      ],
      "source": [
        "#Reversing Array Elements\n",
        "\n",
        "full_name = [\"E\", \"R\", \"I\", \"C\", \"K\", \"A\", \"J\", \"A\", \"N\", \"E\", \"A\", \"L\", \"E\", \"G\", \"R\", \"E\"]\n",
        "\n",
        "full_name.reverse()\n",
        "print(full_name)"
      ]
    }
  ]
}