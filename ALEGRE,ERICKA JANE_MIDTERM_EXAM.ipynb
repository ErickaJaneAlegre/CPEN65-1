{
  "nbformat": 4,
  "nbformat_minor": 0,
  "metadata": {
    "colab": {
      "provenance": [],
      "authorship_tag": "ABX9TyOfX8zmjvXefDNR5zE9R0+l",
      "include_colab_link": true
    },
    "kernelspec": {
      "name": "python3",
      "display_name": "Python 3"
    },
    "language_info": {
      "name": "python"
    }
  },
  "cells": [
    {
      "cell_type": "markdown",
      "metadata": {
        "id": "view-in-github",
        "colab_type": "text"
      },
      "source": [
        "<a href=\"https://colab.research.google.com/github/ErickaJaneAlegre/CPEN65-1/blob/main/ALEGRE%2CERICKA%20JANE_MIDTERM_EXAM.ipynb\" target=\"_parent\"><img src=\"https://colab.research.google.com/assets/colab-badge.svg\" alt=\"Open In Colab\"/></a>"
      ]
    },
    {
      "cell_type": "markdown",
      "source": [
        "###MIDTERM EXAM"
      ],
      "metadata": {
        "id": "b-pDBAkyKUVJ"
      }
    },
    {
      "cell_type": "markdown",
      "source": [
        "####A. Methadology"
      ],
      "metadata": {
        "id": "Y0Qv1jm8KcYv"
      }
    },
    {
      "cell_type": "markdown",
      "source": [
        "1. Write a Python program to create an array of 10 integers and display the array items. Access individual elements through indexes and compute for the sum."
      ],
      "metadata": {
        "id": "i1uf2TEsLLFU"
      }
    },
    {
      "cell_type": "code",
      "execution_count": 17,
      "metadata": {
        "colab": {
          "base_uri": "https://localhost:8080/"
        },
        "id": "JoOIJP_SJKrf",
        "outputId": "70825e9d-a590-43d4-d4aa-e08a5707adc7"
      },
      "outputs": [
        {
          "output_type": "stream",
          "name": "stdout",
          "text": [
            "List of array:  [2, 4, 6, 8, 10, 12, 14, 16, 18, 20]\n",
            "0 2\n",
            "1 4\n",
            "2 6\n",
            "3 8\n",
            "4 10\n",
            "5 12\n",
            "6 14\n",
            "7 16\n",
            "8 18\n",
            "9 20\n",
            "Sum of all the elements of an array: 110\n"
          ]
        }
      ],
      "source": [
        "numbers = [2, 4, 6, 8, 10, 12, 14, 16, 18, 20]\n",
        "sum = 0 \n",
        "print(\"List of array: \", numbers)\n",
        "\n",
        "for index, val in enumerate(numbers):\n",
        "  print(index, val)\n",
        "\n",
        "for i in range(0, len(numbers)):    \n",
        "   sum = sum + numbers[i];    \n",
        "     \n",
        "print(\"Sum of all the elements of an array: \" + str(sum))  "
      ]
    },
    {
      "cell_type": "markdown",
      "source": [
        "2. Write a Python program to append a new item to the end of array. Original array: numbers = [1, 2, 3, 4, 5, 6, 7, 8, 9, 10] \n"
      ],
      "metadata": {
        "id": "2dv1bj1gMGLj"
      }
    },
    {
      "cell_type": "code",
      "source": [
        "numbers = [1, 2, 3, 4, 5, 6, 7, 8, 9, 10]\n",
        "print(\"Original Array: \", numbers)\n",
        "\n",
        "a = numbers.append(11)\n",
        "print(\"New Array: \", numbers)"
      ],
      "metadata": {
        "colab": {
          "base_uri": "https://localhost:8080/"
        },
        "id": "w9rDnb2rMsBT",
        "outputId": "f4508a76-5784-4ff4-e856-5a1beda2035a"
      },
      "execution_count": 18,
      "outputs": [
        {
          "output_type": "stream",
          "name": "stdout",
          "text": [
            "Original Array:  [1, 2, 3, 4, 5, 6, 7, 8, 9, 10]\n",
            "New Array:  [1, 2, 3, 4, 5, 6, 7, 8, 9, 10, 11]\n"
          ]
        }
      ]
    },
    {
      "cell_type": "markdown",
      "source": [
        "3. Write a Python program to insert a new item before the second element in an existing array. Original array: numbers = [1, 2, 3, 4, 5, 6, 7, 8, 9, 10]"
      ],
      "metadata": {
        "id": "QCjQGVtyMsi1"
      }
    },
    {
      "cell_type": "code",
      "source": [
        "numbers = [1, 2, 3, 4, 5, 6, 7, 8, 9, 10]\n",
        "print(\"Original Array: \", numbers)\n",
        "\n",
        "a = numbers.insert(1,15)\n",
        "print(\"New Array: \", numbers)"
      ],
      "metadata": {
        "colab": {
          "base_uri": "https://localhost:8080/"
        },
        "id": "xsD7wkPDNYwm",
        "outputId": "a61a5d21-a2e9-4067-fd38-100ec7095fe3"
      },
      "execution_count": null,
      "outputs": [
        {
          "output_type": "stream",
          "name": "stdout",
          "text": [
            "Original Array:  [1, 2, 3, 4, 5, 6, 7, 8, 9, 10]\n",
            "New Array:  [1, 15, 2, 3, 4, 5, 6, 7, 8, 9, 10]\n"
          ]
        }
      ]
    },
    {
      "cell_type": "markdown",
      "source": [
        "4. Write a Python program to reverse the order of the items in an array. Original array: numbers = [5, 4, 3, 2, 1]"
      ],
      "metadata": {
        "id": "zwJQAY2TNaKL"
      }
    },
    {
      "cell_type": "code",
      "source": [
        "numbers = [5, 4, 3, 2, 1]\n",
        "print(\"Original Array: \", numbers)\n",
        "\n",
        "a = numbers.reverse()\n",
        "print(\"Reverse order:\", numbers)"
      ],
      "metadata": {
        "colab": {
          "base_uri": "https://localhost:8080/"
        },
        "id": "A3lQAC2JNqow",
        "outputId": "362a1fec-a4ba-4dae-ee7a-cbf10735ebf9"
      },
      "execution_count": null,
      "outputs": [
        {
          "output_type": "stream",
          "name": "stdout",
          "text": [
            "Original Array:  [5, 4, 3, 2, 1]\n",
            "Reverse order: [1, 2, 3, 4, 5]\n"
          ]
        }
      ]
    },
    {
      "cell_type": "markdown",
      "source": [
        "5. Let A be an array of size n ≥ 2 containing integers from 1 to n−1, inclusive, with exactly one repeated. Create an algorithm for finding the integer in A that is repeated.\n",
        "\n",
        "ALGORITHM FOR FINDING THE REPEATED INTEGER IN A:\n",
        "\n",
        "1. Start\n",
        "2. Let \"A\" be the array name.\n",
        "3. Input values of A with at least two items containing integers from 1 to n-1.\n",
        "4. Repeated elements can be found using two loops. The outer loop will iterate through the array from 0 to the length of the array. The outer loop will select an element. The inner loop will be used to compare the selected elements to the rest of the array's elements.\n",
        "5. If a match is found, that means the repeated element is found; then, print the repeating integer.\n",
        "If a match is not found on a given set of arrays, return to the outer loop.\n",
        "6. End"
      ],
      "metadata": {
        "id": "J5sPbozkNq5l"
      }
    },
    {
      "cell_type": "code",
      "source": [
        "A = [9, 8, 2, 6, 1, 7, 5, 3, 4, 7]\n",
        "\n",
        "def Repeating_Integer(A, num_arr):\n",
        "  for i in range(num_arr):\n",
        "    for j in range(i + 1, num_arr):\n",
        "      if (A[i] == A[j]):\n",
        "        return A[i]\n",
        " \n",
        "print(\"Repeating Integer:\",Repeating_Integer(A, num_arr))"
      ],
      "metadata": {
        "colab": {
          "base_uri": "https://localhost:8080/"
        },
        "id": "b5Lck4IUN2Rp",
        "outputId": "f5626a9b-4365-43de-f046-2112bf7498a3"
      },
      "execution_count": 39,
      "outputs": [
        {
          "output_type": "stream",
          "name": "stdout",
          "text": [
            "Repeating Integer: 7\n"
          ]
        }
      ]
    }
  ]
}